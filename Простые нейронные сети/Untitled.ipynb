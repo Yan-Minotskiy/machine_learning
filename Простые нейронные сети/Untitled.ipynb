{
 "cells": [
  {
   "cell_type": "code",
   "execution_count": 1,
   "metadata": {},
   "outputs": [],
   "source": [
    "import numpy as np\n",
    "from keras.models import Sequential\n",
    "from keras.layers import Dense\n",
    "from keras.wrappers.scikit_learn import KerasRegressor\n",
    "from sklearn.model_selection import cross_val_score\n",
    "from sklearn.model_selection import KFold\n",
    "from sklearn.preprocessing import StandardScaler\n",
    "from sklearn.pipeline import Pipeline"
   ]
  },
  {
   "cell_type": "code",
   "execution_count": 2,
   "metadata": {},
   "outputs": [],
   "source": [
    "seed = 1\n",
    "Y = [475.3, 413.5, 401.7, 400.9, 401.3, 402.5, 401.1, 404.4, 406.2, 412.2, 416.5, 425.8, 435.4, 445.4, 454.6, 466.1, 475.2]\n",
    "X = [[0.986, 0.978, 0.970, 1.060, 0.880],\n",
    "     [0.876, 0.858, 0.870, 1.082, 0.840],\n",
    "     [0.699, 0.690, 0.764, 1.104, 0.480],\n",
    "     [0.605, 0.619, 0.685, 1.126, 0.475],\n",
    "     [0.514, 0.559, 0.566, 1.148, 0.525],\n",
    "     [0.483, 0.492, 0.534, 1.170, 0.575],\n",
    "     [0.459, 0.501, 0.570, 1.230, 0.582],\n",
    "     [0.464, 0.506, 0.593, 1.304, 0.539],\n",
    "     [0.478, 0.430, 0.640, 1.336, 0.512],\n",
    "     [0.507, 0.587, 0.695, 1.370, 0.519],\n",
    "     [0.671, 0.777, 0.730, 1.400, 0.617],\n",
    "     [0.801, 1.109, 0.758, 1.430, 0.624],\n",
    "     [0.981, 1.267, 0.794, 1.528, 0.634],\n",
    "     [1.117, 1.425, 0.830, 1.626, 0.656],\n",
    "     [1.254, 1.583, 0.866, 1.724, 0.682],\n",
    "     [1.411, 1.741, 0.904, 1.824, 0.729],\n",
    "     [1.568, 1.899, 1.075, 1.887, 0.780]]\n",
    "Y = np.array(Y)\n",
    "X = np.array(X)"
   ]
  },
  {
   "cell_type": "code",
   "execution_count": 3,
   "metadata": {},
   "outputs": [],
   "source": [
    "def larger_model():\n",
    "\t# create model\n",
    "\tmodel = Sequential()\n",
    "\tmodel.add(Dense(5, input_dim=5, kernel_initializer='normal', activation='relu'))\n",
    "\tmodel.add(Dense(3, kernel_initializer='normal', activation='relu'))\n",
    "\tmodel.add(Dense(1, kernel_initializer='normal'))\n",
    "\t# Compile model\n",
    "\tmodel.compile(loss='mean_squared_error', optimizer='adam')\n",
    "\treturn model"
   ]
  },
  {
   "cell_type": "code",
   "execution_count": 5,
   "metadata": {},
   "outputs": [
    {
     "name": "stdout",
     "output_type": "stream",
     "text": [
      "Larger: -181989.73 (12215.84) MSE\n"
     ]
    }
   ],
   "source": [
    "np.random.seed(seed)\n",
    "estimators = []\n",
    "estimators.append(('standardize', StandardScaler()))\n",
    "estimators.append(('mlp', KerasRegressor(build_fn=larger_model, epochs=50, batch_size=2, verbose=0)))\n",
    "pipeline = Pipeline(estimators)\n",
    "kfold = KFold(n_splits=2)\n",
    "results = cross_val_score(pipeline, X, Y, cv=kfold)\n",
    "print(\"Larger: %.2f (%.2f) MSE\" % (results.mean(), results.std()))"
   ]
  },
  {
   "cell_type": "code",
   "execution_count": null,
   "metadata": {},
   "outputs": [],
   "source": []
  },
  {
   "cell_type": "code",
   "execution_count": null,
   "metadata": {},
   "outputs": [],
   "source": []
  }
 ],
 "metadata": {
  "kernelspec": {
   "display_name": "Python 3",
   "language": "python",
   "name": "python3"
  },
  "language_info": {
   "codemirror_mode": {
    "name": "ipython",
    "version": 3
   },
   "file_extension": ".py",
   "mimetype": "text/x-python",
   "name": "python",
   "nbconvert_exporter": "python",
   "pygments_lexer": "ipython3",
   "version": "3.7.5"
  }
 },
 "nbformat": 4,
 "nbformat_minor": 4
}
