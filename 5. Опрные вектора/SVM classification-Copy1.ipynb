{
 "cells": [
  {
   "cell_type": "markdown",
   "metadata": {},
   "source": [
    "# Практические работы №3-4"
   ]
  },
  {
   "cell_type": "code",
   "execution_count": 1,
   "metadata": {},
   "outputs": [],
   "source": [
    "import numpy as np\n",
    "import matplotlib.pyplot as plt\n",
    "import pandas as pd\n",
    "from sklearn.model_selection import train_test_split\n",
    "from sklearn import svm\n",
    "from sklearn.metrics import classification_report, confusion_matrix, accuracy_score\n",
    "from sklearn.preprocessing import StandardScaler\n",
    "from sklearn.model_selection import GridSearchCV\n",
    "import seaborn as sns\n",
    "from sklearn.neighbors import KNeighborsClassifier"
   ]
  },
  {
   "cell_type": "markdown",
   "metadata": {},
   "source": [
    "**Часть базы данных спектрометров низкого разрешения IRAS 2.**"
   ]
  },
  {
   "cell_type": "code",
   "execution_count": 2,
   "metadata": {},
   "outputs": [
    {
     "data": {
      "text/html": [
       "<div>\n",
       "<style scoped>\n",
       "    .dataframe tbody tr th:only-of-type {\n",
       "        vertical-align: middle;\n",
       "    }\n",
       "\n",
       "    .dataframe tbody tr th {\n",
       "        vertical-align: top;\n",
       "    }\n",
       "\n",
       "    .dataframe thead th {\n",
       "        text-align: right;\n",
       "    }\n",
       "</style>\n",
       "<table border=\"1\" class=\"dataframe\">\n",
       "  <thead>\n",
       "    <tr style=\"text-align: right;\">\n",
       "      <th></th>\n",
       "      <th>LRS-name</th>\n",
       "      <th>LRS-class</th>\n",
       "      <th>ID-type</th>\n",
       "      <th>Right-Ascension</th>\n",
       "      <th>Declination</th>\n",
       "      <th>Scale_Factor</th>\n",
       "      <th>Blue_base_1</th>\n",
       "      <th>Blue_base_2</th>\n",
       "      <th>Red_base_1</th>\n",
       "      <th>Red_base_2</th>\n",
       "      <th>...</th>\n",
       "      <th>red-band-flux_40</th>\n",
       "      <th>red-band-flux_41</th>\n",
       "      <th>red-band-flux_42</th>\n",
       "      <th>red-band-flux_43</th>\n",
       "      <th>red-band-flux_44</th>\n",
       "      <th>red-band-flux_45</th>\n",
       "      <th>red-band-flux_46</th>\n",
       "      <th>red-band-flux_47</th>\n",
       "      <th>red-band-flux_48</th>\n",
       "      <th>red-band-flux_49</th>\n",
       "    </tr>\n",
       "  </thead>\n",
       "  <tbody>\n",
       "    <tr>\n",
       "      <th>0</th>\n",
       "      <td>12043-6225</td>\n",
       "      <td>28</td>\n",
       "      <td>2</td>\n",
       "      <td>12.073</td>\n",
       "      <td>-62.428</td>\n",
       "      <td>1.250000e-16</td>\n",
       "      <td>2498</td>\n",
       "      <td>2630</td>\n",
       "      <td>1740</td>\n",
       "      <td>1783</td>\n",
       "      <td>...</td>\n",
       "      <td>1669.91490</td>\n",
       "      <td>2039.33590</td>\n",
       "      <td>1891.61340</td>\n",
       "      <td>1040.11570</td>\n",
       "      <td>1211.53580</td>\n",
       "      <td>1767.62330</td>\n",
       "      <td>1146.94710</td>\n",
       "      <td>1392.47450</td>\n",
       "      <td>1278.99450</td>\n",
       "      <td>1440.48200</td>\n",
       "    </tr>\n",
       "    <tr>\n",
       "      <th>1</th>\n",
       "      <td>12063-6259</td>\n",
       "      <td>85</td>\n",
       "      <td>3</td>\n",
       "      <td>12.106</td>\n",
       "      <td>-62.987</td>\n",
       "      <td>2.970000e-16</td>\n",
       "      <td>1086</td>\n",
       "      <td>1241</td>\n",
       "      <td>421</td>\n",
       "      <td>674</td>\n",
       "      <td>...</td>\n",
       "      <td>6879.97070</td>\n",
       "      <td>7056.40530</td>\n",
       "      <td>6817.42970</td>\n",
       "      <td>6682.79440</td>\n",
       "      <td>6988.59770</td>\n",
       "      <td>7084.03600</td>\n",
       "      <td>6971.78300</td>\n",
       "      <td>7015.57470</td>\n",
       "      <td>6962.22000</td>\n",
       "      <td>6263.44000</td>\n",
       "    </tr>\n",
       "    <tr>\n",
       "      <th>2</th>\n",
       "      <td>12073-6233</td>\n",
       "      <td>95</td>\n",
       "      <td>3</td>\n",
       "      <td>12.123</td>\n",
       "      <td>-62.554</td>\n",
       "      <td>3.130000e-15</td>\n",
       "      <td>481</td>\n",
       "      <td>270</td>\n",
       "      <td>63</td>\n",
       "      <td>451</td>\n",
       "      <td>...</td>\n",
       "      <td>7048.21630</td>\n",
       "      <td>6998.41550</td>\n",
       "      <td>6669.61100</td>\n",
       "      <td>6551.05900</td>\n",
       "      <td>6679.77150</td>\n",
       "      <td>6564.26300</td>\n",
       "      <td>6309.63960</td>\n",
       "      <td>5954.38800</td>\n",
       "      <td>5337.88870</td>\n",
       "      <td>4638.52440</td>\n",
       "    </tr>\n",
       "    <tr>\n",
       "      <th>3</th>\n",
       "      <td>12148-6741</td>\n",
       "      <td>18</td>\n",
       "      <td>4</td>\n",
       "      <td>12.247</td>\n",
       "      <td>-67.683</td>\n",
       "      <td>1.730000e-15</td>\n",
       "      <td>191</td>\n",
       "      <td>232</td>\n",
       "      <td>103</td>\n",
       "      <td>103</td>\n",
       "      <td>...</td>\n",
       "      <td>523.37290</td>\n",
       "      <td>507.43262</td>\n",
       "      <td>446.32816</td>\n",
       "      <td>417.10430</td>\n",
       "      <td>454.29834</td>\n",
       "      <td>448.98490</td>\n",
       "      <td>459.61176</td>\n",
       "      <td>409.13416</td>\n",
       "      <td>366.62670</td>\n",
       "      <td>332.08942</td>\n",
       "    </tr>\n",
       "    <tr>\n",
       "      <th>4</th>\n",
       "      <td>12216-6218</td>\n",
       "      <td>42</td>\n",
       "      <td>0</td>\n",
       "      <td>12.360</td>\n",
       "      <td>-62.303</td>\n",
       "      <td>2.180000e-16</td>\n",
       "      <td>1401</td>\n",
       "      <td>1268</td>\n",
       "      <td>1042</td>\n",
       "      <td>1063</td>\n",
       "      <td>...</td>\n",
       "      <td>1083.34880</td>\n",
       "      <td>664.50507</td>\n",
       "      <td>909.68350</td>\n",
       "      <td>837.53380</td>\n",
       "      <td>862.60760</td>\n",
       "      <td>693.25110</td>\n",
       "      <td>890.75964</td>\n",
       "      <td>473.78302</td>\n",
       "      <td>658.46140</td>\n",
       "      <td>725.74945</td>\n",
       "    </tr>\n",
       "    <tr>\n",
       "      <th>...</th>\n",
       "      <td>...</td>\n",
       "      <td>...</td>\n",
       "      <td>...</td>\n",
       "      <td>...</td>\n",
       "      <td>...</td>\n",
       "      <td>...</td>\n",
       "      <td>...</td>\n",
       "      <td>...</td>\n",
       "      <td>...</td>\n",
       "      <td>...</td>\n",
       "      <td>...</td>\n",
       "      <td>...</td>\n",
       "      <td>...</td>\n",
       "      <td>...</td>\n",
       "      <td>...</td>\n",
       "      <td>...</td>\n",
       "      <td>...</td>\n",
       "      <td>...</td>\n",
       "      <td>...</td>\n",
       "      <td>...</td>\n",
       "      <td>...</td>\n",
       "    </tr>\n",
       "    <tr>\n",
       "      <th>526</th>\n",
       "      <td>23491+6243</td>\n",
       "      <td>43</td>\n",
       "      <td>2</td>\n",
       "      <td>23.819</td>\n",
       "      <td>62.732</td>\n",
       "      <td>2.220000e-16</td>\n",
       "      <td>1315</td>\n",
       "      <td>1495</td>\n",
       "      <td>843</td>\n",
       "      <td>810</td>\n",
       "      <td>...</td>\n",
       "      <td>931.53430</td>\n",
       "      <td>883.77320</td>\n",
       "      <td>998.42004</td>\n",
       "      <td>735.88940</td>\n",
       "      <td>1088.73080</td>\n",
       "      <td>687.22630</td>\n",
       "      <td>686.34280</td>\n",
       "      <td>934.49110</td>\n",
       "      <td>933.59190</td>\n",
       "      <td>501.37790</td>\n",
       "    </tr>\n",
       "    <tr>\n",
       "      <th>527</th>\n",
       "      <td>23496+6131</td>\n",
       "      <td>27</td>\n",
       "      <td>4</td>\n",
       "      <td>23.827</td>\n",
       "      <td>61.526</td>\n",
       "      <td>1.250000e-15</td>\n",
       "      <td>238</td>\n",
       "      <td>280</td>\n",
       "      <td>99</td>\n",
       "      <td>142</td>\n",
       "      <td>...</td>\n",
       "      <td>1463.34830</td>\n",
       "      <td>1423.84380</td>\n",
       "      <td>1320.31090</td>\n",
       "      <td>1279.61380</td>\n",
       "      <td>1284.83720</td>\n",
       "      <td>1236.90540</td>\n",
       "      <td>1208.31240</td>\n",
       "      <td>1203.89100</td>\n",
       "      <td>1099.19290</td>\n",
       "      <td>1037.99740</td>\n",
       "    </tr>\n",
       "    <tr>\n",
       "      <th>528</th>\n",
       "      <td>23528+4821</td>\n",
       "      <td>22</td>\n",
       "      <td>4</td>\n",
       "      <td>23.881</td>\n",
       "      <td>48.360</td>\n",
       "      <td>5.740000e-16</td>\n",
       "      <td>577</td>\n",
       "      <td>568</td>\n",
       "      <td>416</td>\n",
       "      <td>431</td>\n",
       "      <td>...</td>\n",
       "      <td>1099.62080</td>\n",
       "      <td>1025.80850</td>\n",
       "      <td>795.37830</td>\n",
       "      <td>767.25446</td>\n",
       "      <td>802.76160</td>\n",
       "      <td>843.16656</td>\n",
       "      <td>642.11680</td>\n",
       "      <td>824.46655</td>\n",
       "      <td>703.36536</td>\n",
       "      <td>649.15760</td>\n",
       "    </tr>\n",
       "    <tr>\n",
       "      <th>529</th>\n",
       "      <td>23541+7031</td>\n",
       "      <td>31</td>\n",
       "      <td>3</td>\n",
       "      <td>23.902</td>\n",
       "      <td>70.526</td>\n",
       "      <td>4.120000e-16</td>\n",
       "      <td>995</td>\n",
       "      <td>1177</td>\n",
       "      <td>463</td>\n",
       "      <td>398</td>\n",
       "      <td>...</td>\n",
       "      <td>1981.20740</td>\n",
       "      <td>1970.82130</td>\n",
       "      <td>1748.14440</td>\n",
       "      <td>1757.16270</td>\n",
       "      <td>1724.30970</td>\n",
       "      <td>1721.34130</td>\n",
       "      <td>1546.44600</td>\n",
       "      <td>1677.99240</td>\n",
       "      <td>1601.73520</td>\n",
       "      <td>1470.15520</td>\n",
       "    </tr>\n",
       "    <tr>\n",
       "      <th>530</th>\n",
       "      <td>23564-5651</td>\n",
       "      <td>2</td>\n",
       "      <td>2</td>\n",
       "      <td>23.941</td>\n",
       "      <td>-56.854</td>\n",
       "      <td>4.840000e-16</td>\n",
       "      <td>562</td>\n",
       "      <td>640</td>\n",
       "      <td>309</td>\n",
       "      <td>339</td>\n",
       "      <td>...</td>\n",
       "      <td>999.21875</td>\n",
       "      <td>951.77560</td>\n",
       "      <td>881.81370</td>\n",
       "      <td>797.37744</td>\n",
       "      <td>795.00860</td>\n",
       "      <td>757.24786</td>\n",
       "      <td>695.35840</td>\n",
       "      <td>702.66327</td>\n",
       "      <td>681.01196</td>\n",
       "      <td>670.62964</td>\n",
       "    </tr>\n",
       "  </tbody>\n",
       "</table>\n",
       "<p>531 rows × 103 columns</p>\n",
       "</div>"
      ],
      "text/plain": [
       "       LRS-name  LRS-class  ID-type  Right-Ascension  Declination  \\\n",
       "0    12043-6225         28        2           12.073      -62.428   \n",
       "1    12063-6259         85        3           12.106      -62.987   \n",
       "2    12073-6233         95        3           12.123      -62.554   \n",
       "3    12148-6741         18        4           12.247      -67.683   \n",
       "4    12216-6218         42        0           12.360      -62.303   \n",
       "..          ...        ...      ...              ...          ...   \n",
       "526  23491+6243         43        2           23.819       62.732   \n",
       "527  23496+6131         27        4           23.827       61.526   \n",
       "528  23528+4821         22        4           23.881       48.360   \n",
       "529  23541+7031         31        3           23.902       70.526   \n",
       "530  23564-5651          2        2           23.941      -56.854   \n",
       "\n",
       "     Scale_Factor  Blue_base_1  Blue_base_2  Red_base_1  Red_base_2  ...  \\\n",
       "0    1.250000e-16         2498         2630        1740        1783  ...   \n",
       "1    2.970000e-16         1086         1241         421         674  ...   \n",
       "2    3.130000e-15          481          270          63         451  ...   \n",
       "3    1.730000e-15          191          232         103         103  ...   \n",
       "4    2.180000e-16         1401         1268        1042        1063  ...   \n",
       "..            ...          ...          ...         ...         ...  ...   \n",
       "526  2.220000e-16         1315         1495         843         810  ...   \n",
       "527  1.250000e-15          238          280          99         142  ...   \n",
       "528  5.740000e-16          577          568         416         431  ...   \n",
       "529  4.120000e-16          995         1177         463         398  ...   \n",
       "530  4.840000e-16          562          640         309         339  ...   \n",
       "\n",
       "     red-band-flux_40  red-band-flux_41  red-band-flux_42  red-band-flux_43  \\\n",
       "0          1669.91490        2039.33590        1891.61340        1040.11570   \n",
       "1          6879.97070        7056.40530        6817.42970        6682.79440   \n",
       "2          7048.21630        6998.41550        6669.61100        6551.05900   \n",
       "3           523.37290         507.43262         446.32816         417.10430   \n",
       "4          1083.34880         664.50507         909.68350         837.53380   \n",
       "..                ...               ...               ...               ...   \n",
       "526         931.53430         883.77320         998.42004         735.88940   \n",
       "527        1463.34830        1423.84380        1320.31090        1279.61380   \n",
       "528        1099.62080        1025.80850         795.37830         767.25446   \n",
       "529        1981.20740        1970.82130        1748.14440        1757.16270   \n",
       "530         999.21875         951.77560         881.81370         797.37744   \n",
       "\n",
       "     red-band-flux_44  red-band-flux_45  red-band-flux_46  red-band-flux_47  \\\n",
       "0          1211.53580        1767.62330        1146.94710        1392.47450   \n",
       "1          6988.59770        7084.03600        6971.78300        7015.57470   \n",
       "2          6679.77150        6564.26300        6309.63960        5954.38800   \n",
       "3           454.29834         448.98490         459.61176         409.13416   \n",
       "4           862.60760         693.25110         890.75964         473.78302   \n",
       "..                ...               ...               ...               ...   \n",
       "526        1088.73080         687.22630         686.34280         934.49110   \n",
       "527        1284.83720        1236.90540        1208.31240        1203.89100   \n",
       "528         802.76160         843.16656         642.11680         824.46655   \n",
       "529        1724.30970        1721.34130        1546.44600        1677.99240   \n",
       "530         795.00860         757.24786         695.35840         702.66327   \n",
       "\n",
       "     red-band-flux_48  red-band-flux_49  \n",
       "0          1278.99450        1440.48200  \n",
       "1          6962.22000        6263.44000  \n",
       "2          5337.88870        4638.52440  \n",
       "3           366.62670         332.08942  \n",
       "4           658.46140         725.74945  \n",
       "..                ...               ...  \n",
       "526         933.59190         501.37790  \n",
       "527        1099.19290        1037.99740  \n",
       "528         703.36536         649.15760  \n",
       "529        1601.73520        1470.15520  \n",
       "530         681.01196         670.62964  \n",
       "\n",
       "[531 rows x 103 columns]"
      ]
     },
     "execution_count": 2,
     "metadata": {},
     "output_type": "execute_result"
    }
   ],
   "source": [
    "dataset = pd.read_csv(\"https://datahub.io/machine-learning/spectrometer/r/spectrometer.csv\")\n",
    "dataset"
   ]
  },
  {
   "cell_type": "code",
   "execution_count": 3,
   "metadata": {},
   "outputs": [
    {
     "name": "stdout",
     "output_type": "stream",
     "text": [
      "Количество уникальных классов = 48\n"
     ]
    }
   ],
   "source": [
    "print('Количество уникальных классов =', dataset['LRS-class'].nunique())"
   ]
  },
  {
   "cell_type": "markdown",
   "metadata": {},
   "source": [
    "**Визуальная оценка распределения данных по классам**"
   ]
  },
  {
   "cell_type": "code",
   "execution_count": 4,
   "metadata": {},
   "outputs": [
    {
     "data": {
      "image/png": "[encoded data removed]",
      "text/plain": [
       "<Figure size 432x288 with 1 Axes>"
      ]
     },
     "metadata": {
      "needs_background": "light"
     },
     "output_type": "display_data"
    }
   ],
   "source": [
    "distribution = dataset.groupby('LRS-class').size() / len(dataset)\n",
    "plt.bar(dataset['LRS-class'].unique(), list(distribution))\n",
    "plt.show()"
   ]
  },
  {
   "cell_type": "code",
   "execution_count": 5,
   "metadata": {},
   "outputs": [
    {
     "data": {
      "text/plain": [
       "LRS-class\n",
       "29    55\n",
       "42    45\n",
       "28    42\n",
       "27    35\n",
       "23    31\n",
       "26    30\n",
       "22    27\n",
       "18    26\n",
       "15    24\n",
       "43    20\n",
       "24    19\n",
       "25    19\n",
       "44    18\n",
       "21    15\n",
       "16    13\n",
       "17    12\n",
       "32    10\n",
       "14    10\n",
       "31     9\n",
       "41     8\n",
       "4      7\n",
       "45     5\n",
       "33     4\n",
       "34     4\n",
       "13     3\n",
       "2      3\n",
       "79     3\n",
       "38     3\n",
       "39     3\n",
       "91     3\n",
       "35     3\n",
       "80     3\n",
       "69     2\n",
       "12     2\n",
       "81     2\n",
       "82     1\n",
       "3      1\n",
       "92     1\n",
       "5      1\n",
       "85     1\n",
       "95     1\n",
       "73     1\n",
       "72     1\n",
       "71     1\n",
       "50     1\n",
       "37     1\n",
       "36     1\n",
       "96     1\n",
       "dtype: int64"
      ]
     },
     "execution_count": 5,
     "metadata": {},
     "output_type": "execute_result"
    }
   ],
   "source": [
    "count_examples_class = dataset.groupby('LRS-class').size().sort_values(ascending=False)\n",
    "count_examples_class"
   ]
  },
  {
   "cell_type": "code",
   "execution_count": 6,
   "metadata": {},
   "outputs": [
    {
     "data": {
      "image/png": "[encoded data removed]",
      "text/plain": [
       "<Figure size 432x288 with 1 Axes>"
      ]
     },
     "metadata": {},
     "output_type": "display_data"
    }
   ],
   "source": [
    "plt.pie(count_examples_class)\n",
    "plt.show()"
   ]
  },
  {
   "cell_type": "markdown",
   "metadata": {},
   "source": [
    "**Возникает проблема: мы не сможем предсказать класс, у которого очень мало примеров в исходных данных. Поэтому малочисленные классы придётся отбросить.**"
   ]
  },
  {
   "cell_type": "code",
   "execution_count": 7,
   "metadata": {},
   "outputs": [],
   "source": [
    "count_examples_class = count_examples_class[count_examples_class > 10]\n",
    "classes = list(dict(count_examples_class).keys())\n",
    "droplist = []\n",
    "for index, row in dataset.iterrows():\n",
    "    if row['LRS-class'] not in classes:\n",
    "        droplist.append(index)\n",
    "dataset = dataset.drop(droplist)"
   ]
  },
  {
   "cell_type": "code",
   "execution_count": 8,
   "metadata": {},
   "outputs": [
    {
     "data": {
      "image/png": "[encoded data removed]",
      "text/plain": [
       "<Figure size 432x288 with 1 Axes>"
      ]
     },
     "metadata": {},
     "output_type": "display_data"
    }
   ],
   "source": [
    "count_examples_class = dataset.groupby('LRS-class').size().sort_values(ascending=False)\n",
    "plt.pie(count_examples_class)\n",
    "plt.show()"
   ]
  },
  {
   "cell_type": "code",
   "execution_count": 9,
   "metadata": {},
   "outputs": [
    {
     "name": "stdout",
     "output_type": "stream",
     "text": [
      "Количество уникальных классов после фильтрации = 16\n"
     ]
    }
   ],
   "source": [
    "print('Количество уникальных классов после фильтрации =', count_examples_class.count())"
   ]
  },
  {
   "cell_type": "code",
   "execution_count": 10,
   "metadata": {},
   "outputs": [],
   "source": [
    "X = dataset.drop(['LRS-class', 'LRS-name'], axis=1)\n",
    "y = dataset['LRS-class']"
   ]
  },
  {
   "cell_type": "markdown",
   "metadata": {},
   "source": [
    "**Разбиение обучающей выборки на тестовую и тренировочную**"
   ]
  },
  {
   "cell_type": "code",
   "execution_count": 11,
   "metadata": {},
   "outputs": [],
   "source": [
    "X_train, X_test, y_train, y_test = train_test_split(X, y, test_size = 0.4)"
   ]
  },
  {
   "cell_type": "markdown",
   "metadata": {},
   "source": [
    "**Шкалирование данных**"
   ]
  },
  {
   "cell_type": "code",
   "execution_count": 12,
   "metadata": {},
   "outputs": [],
   "source": [
    "scaler = StandardScaler()\n",
    "scaler.fit(X_train)\n",
    "X_train = scaler.transform(X_train)\n",
    "X_test = scaler.transform(X_test)"
   ]
  },
  {
   "cell_type": "markdown",
   "metadata": {},
   "source": [
    "**Обучение модели алгоритма опорных векторов**"
   ]
  },
  {
   "cell_type": "code",
   "execution_count": 13,
   "metadata": {},
   "outputs": [
    {
     "data": {
      "text/plain": [
       "SVC(C=1.0, break_ties=False, cache_size=200, class_weight=None, coef0=0.0,\n",
       "    decision_function_shape='ovr', degree=3, gamma='scale', kernel='rbf',\n",
       "    max_iter=-1, probability=False, random_state=None, shrinking=True,\n",
       "    tol=0.001, verbose=False)"
      ]
     },
     "execution_count": 13,
     "metadata": {},
     "output_type": "execute_result"
    }
   ],
   "source": [
    "clf = svm.SVC()\n",
    "clf.fit(X_train, y_train)"
   ]
  },
  {
   "cell_type": "code",
   "execution_count": 14,
   "metadata": {},
   "outputs": [
    {
     "data": {
      "text/plain": [
       "0.5086705202312138"
      ]
     },
     "execution_count": 14,
     "metadata": {},
     "output_type": "execute_result"
    }
   ],
   "source": [
    "clf.score(X_test, y_test)"
   ]
  },
  {
   "cell_type": "markdown",
   "metadata": {},
   "source": [
    "**Поиск оптимальных параметров опорных векторов с помощью кроссвалидации.**"
   ]
  },
  {
   "cell_type": "code",
   "execution_count": 15,
   "metadata": {},
   "outputs": [
    {
     "name": "stdout",
     "output_type": "stream",
     "text": [
      "Fitting 3 folds for each of 60 candidates, totalling 180 fits\n"
     ]
    },
    {
     "name": "stderr",
     "output_type": "stream",
     "text": [
      "[Parallel(n_jobs=-1)]: Using backend LokyBackend with 4 concurrent workers.\n",
      "[Parallel(n_jobs=-1)]: Done  56 tasks      | elapsed:    3.7s\n",
      "[Parallel(n_jobs=-1)]: Done 180 out of 180 | elapsed:    4.6s finished\n"
     ]
    },
    {
     "data": {
      "text/plain": [
       "GridSearchCV(cv=3, error_score=nan,\n",
       "             estimator=SVC(C=1.0, break_ties=False, cache_size=200,\n",
       "                           class_weight=None, coef0=0.0,\n",
       "                           decision_function_shape='ovr', degree=3,\n",
       "                           gamma='scale', kernel='rbf', max_iter=-1,\n",
       "                           probability=False, random_state=None, shrinking=True,\n",
       "                           tol=0.001, verbose=False),\n",
       "             iid='deprecated', n_jobs=-1,\n",
       "             param_grid={'C': [0.1, 0.2, 0.30000000000000004, 0.4, 0.5,\n",
       "                               0.6000000000000001, 0.7000000000000001, 0.8, 0.9,\n",
       "                               1.0, 1.1, 1.2000000000000002, 1.3,\n",
       "                               1.4000000000000001, 1.5],\n",
       "                         'kernel': ['linear', 'poly', 'rbf', 'sigmoid']},\n",
       "             pre_dispatch='2*n_jobs', refit=True, return_train_score=False,\n",
       "             scoring=None, verbose=1)"
      ]
     },
     "execution_count": 15,
     "metadata": {},
     "output_type": "execute_result"
    }
   ],
   "source": [
    "svc = svm.SVC()\n",
    "param = {'kernel': ['linear', 'poly', 'rbf', 'sigmoid'], 'C': [i * 0.1 for i in range(1, 16)]}\n",
    "gscv =  GridSearchCV(svc, param, cv=3, n_jobs=-1, verbose=1)\n",
    "gscv.fit(X_train, y_train)"
   ]
  },
  {
   "cell_type": "markdown",
   "metadata": {},
   "source": [
    "**Модель с лучшими парметрами**"
   ]
  },
  {
   "cell_type": "code",
   "execution_count": 16,
   "metadata": {},
   "outputs": [
    {
     "data": {
      "text/plain": [
       "{'C': 0.1, 'kernel': 'linear'}"
      ]
     },
     "execution_count": 16,
     "metadata": {},
     "output_type": "execute_result"
    }
   ],
   "source": [
    "gscv.best_params_"
   ]
  },
  {
   "cell_type": "code",
   "execution_count": 17,
   "metadata": {},
   "outputs": [],
   "source": [
    "best_c = gscv.best_estimator_"
   ]
  },
  {
   "cell_type": "code",
   "execution_count": 18,
   "metadata": {},
   "outputs": [],
   "source": [
    "y_pred = best_c.predict(X_test)"
   ]
  },
  {
   "cell_type": "code",
   "execution_count": 20,
   "metadata": {},
   "outputs": [
    {
     "name": "stdout",
     "output_type": "stream",
     "text": [
      "Confusion Matrix:\n",
      "Accuracy: 0.6589595375722543\n"
     ]
    }
   ],
   "source": [
    "result = confusion_matrix(y_test, y_pred)\n",
    "print(\"Confusion Matrix:\")\n",
    "result2 = accuracy_score(y_test,y_pred)\n",
    "print(\"Accuracy:\",result2)"
   ]
  },
  {
   "cell_type": "markdown",
   "metadata": {},
   "source": [
    "**Итоговая точность метода опорных векторов: 65,89%**"
   ]
  },
  {
   "cell_type": "markdown",
   "metadata": {},
   "source": [
    "**Обучение KNN-классификатора**"
   ]
  },
  {
   "cell_type": "code",
   "execution_count": 21,
   "metadata": {},
   "outputs": [
    {
     "data": {
      "text/plain": [
       "0.5202312138728323"
      ]
     },
     "execution_count": 21,
     "metadata": {},
     "output_type": "execute_result"
    }
   ],
   "source": [
    "clf1 = KNeighborsClassifier()\n",
    "clf1.fit(X_train, y_train)\n",
    "clf1.score(X_test, y_test)"
   ]
  },
  {
   "cell_type": "code",
   "execution_count": 22,
   "metadata": {},
   "outputs": [
    {
     "name": "stdout",
     "output_type": "stream",
     "text": [
      "Fitting 3 folds for each of 32 candidates, totalling 96 fits\n"
     ]
    },
    {
     "name": "stderr",
     "output_type": "stream",
     "text": [
      "[Parallel(n_jobs=-1)]: Using backend LokyBackend with 4 concurrent workers.\n",
      "[Parallel(n_jobs=-1)]: Done  96 out of  96 | elapsed:    0.6s finished\n"
     ]
    },
    {
     "data": {
      "text/plain": [
       "GridSearchCV(cv=3, error_score=nan,\n",
       "             estimator=KNeighborsClassifier(algorithm='auto', leaf_size=30,\n",
       "                                            metric='minkowski',\n",
       "                                            metric_params=None, n_jobs=None,\n",
       "                                            n_neighbors=5, p=2,\n",
       "                                            weights='uniform'),\n",
       "             iid='deprecated', n_jobs=-1,\n",
       "             param_grid={'metric': ['euclidean', 'manhattan', 'chebyshev',\n",
       "                                    'minkowski'],\n",
       "                         'n_neighbors': range(2, 10)},\n",
       "             pre_dispatch='2*n_jobs', refit=True, return_train_score=False,\n",
       "             scoring=None, verbose=1)"
      ]
     },
     "execution_count": 22,
     "metadata": {},
     "output_type": "execute_result"
    }
   ],
   "source": [
    "svc = KNeighborsClassifier()\n",
    "param = {'metric': ['euclidean', 'manhattan', 'chebyshev', 'minkowski'], 'n_neighbors': range(2, 10)}\n",
    "gscv2 =  GridSearchCV(svc, param, cv=3, n_jobs=-1, verbose=1)\n",
    "gscv2.fit(X_train, y_train)"
   ]
  },
  {
   "cell_type": "code",
   "execution_count": 23,
   "metadata": {},
   "outputs": [
    {
     "data": {
      "text/plain": [
       "{'metric': 'manhattan', 'n_neighbors': 5}"
      ]
     },
     "execution_count": 23,
     "metadata": {},
     "output_type": "execute_result"
    }
   ],
   "source": [
    "gscv2.best_params_"
   ]
  },
  {
   "cell_type": "code",
   "execution_count": 25,
   "metadata": {},
   "outputs": [
    {
     "name": "stdout",
     "output_type": "stream",
     "text": [
      "Confusion Matrix:\n",
      "[[10  1  0  0  0  0  0  0  0  0  0  0  0  1  0  0]\n",
      " [ 2  2  0  0  0  0  0  0  0  0  0  0  0  0  0  0]\n",
      " [ 0  1  1  1  0  0  0  0  0  0  0  0  0  0  0  0]\n",
      " [ 0  0  0 11  0  0  0  0  0  0  0  0  0  0  0  0]\n",
      " [ 1  0  0  1  2  1  0  0  0  0  0  0  0  0  0  0]\n",
      " [ 0  1  0  0  5  2  2  0  0  0  0  0  0  1  0  0]\n",
      " [ 0  0  0  0  3  2  1  3  0  0  0  0  0  0  0  0]\n",
      " [ 0  0  0  0  0  1  2  2  1  1  0  0  0  0  0  0]\n",
      " [ 0  0  0  0  0  1  2  0  1  4  1  0  0  0  0  0]\n",
      " [ 0  0  0  0  0  0  0  0  0  8  6  1  0  0  0  0]\n",
      " [ 0  0  0  0  0  0  0  0  0  0  7  5  1  0  0  0]\n",
      " [ 0  0  0  0  0  0  0  0  0  1  5  3  7  0  0  0]\n",
      " [ 0  0  0  0  0  0  0  0  0  0  1  2 15  0  0  0]\n",
      " [ 0  0  0  0  0  0  1  0  0  0  0  0  0 19  0  0]\n",
      " [ 0  0  0  0  0  0  0  0  0  0  0  0  0  3  6  0]\n",
      " [ 0  0  0  0  0  0  0  0  0  0  0  0  0  1  4  6]]\n",
      "Accuracy: 0.5549132947976878\n"
     ]
    }
   ],
   "source": [
    "best_c2 = gscv2.best_estimator_\n",
    "y_pred2 = best_c2.predict(X_test)\n",
    "result3 = confusion_matrix(y_test, y_pred2)\n",
    "print(\"Confusion Matrix:\")\n",
    "print(result3)\n",
    "result4 = accuracy_score(y_test,y_pred2)\n",
    "print(\"Accuracy:\",result4)"
   ]
  },
  {
   "cell_type": "markdown",
   "metadata": {},
   "source": [
    "**На этих данных лучше всего себя показал метод опорных векторов. Лучшая точность предсказаня 65%. Это неплохой резульатат для предсказания 16 классов и обучения на сравнительно небольшой обучающей выборке.**"
   ]
  },
  {
   "cell_type": "code",
   "execution_count": null,
   "metadata": {},
   "outputs": [],
   "source": []
  }
 ],
 "metadata": {
  "kernelspec": {
   "display_name": "Python 3",
   "language": "python",
   "name": "python3"
  },
  "language_info": {
   "codemirror_mode": {
    "name": "ipython",
    "version": 3
   },
   "file_extension": ".py",
   "mimetype": "text/x-python",
   "name": "python",
   "nbconvert_exporter": "python",
   "pygments_lexer": "ipython3",
   "version": "3.7.5"
  }
 },
 "nbformat": 4,
 "nbformat_minor": 4
}
